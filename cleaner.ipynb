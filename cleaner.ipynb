{
 "cells": [
  {
   "cell_type": "code",
   "execution_count": 9,
   "metadata": {
    "scrolled": true
   },
   "outputs": [],
   "source": [
    "import os\n",
    "import shutil\n",
    "import pandas as pd\n",
    "import numpy as np\n",
    "import glob\n",
    "import matplotlib.pyplot as plt\n",
    "\n",
    "def clean_by_finished_tasks():\n",
    "    with open('finishedTasks') as f:\n",
    "        finishedTasks = f.readlines()\n",
    "        finishedTasks = [x.strip().split(',')[0] for x in finishedTasks]\n",
    "    \n",
    "    directories = [f.name for f in os.scandir('results/') if f.is_dir() and f.name[0] != '.' ]    \n",
    "    unfinishedResults = [x for x in directories if x not in finishedTasks]\n",
    "    \n",
    "    print(\"Found the following {} unfinished results:\".format(len(unfinishedResults)))\n",
    "    print(\"\\n\".join(unfinishedResults))\n",
    "    \n",
    "    for unfinshed in unfinishedResults:\n",
    "        shutil.rmtree('results/' + unfinshed)\n",
    "\n",
    "#clean_by_finished_tasks()"
   ]
  },
  {
   "cell_type": "code",
   "execution_count": 15,
   "metadata": {
    "scrolled": false
   },
   "outputs": [
    {
     "name": "stdout",
     "output_type": "stream",
     "text": [
      "21 files found.\n",
      "728:Ant-v2__timesteps_1000000__simsteps_50__trainsteps_25__noise_adaptive-param_0.2__sharing_balancedbottlebottlebottleneck__seed_1\n",
      "744:Ant-v2__timesteps_1000000__simsteps_50__trainsteps_25__noise_adaptive-param_0.2__sharing_balancedbottleneck__seed_2\n",
      "931:Ant-v2__timesteps_1000000__simsteps_50__trainsteps_25__noise_adaptive-param_0.2__sharing_balancedbottlebottleneck__seed_2\n",
      "648:Ant-v2__timesteps_1000000__simsteps_50__trainsteps_25__noise_adaptive-param_0.2__sharing_balancedbottlebottlebottleneck__seed_2\n",
      "724:Ant-v2__timesteps_1000000__simsteps_50__trainsteps_25__noise_adaptive-param_0.2__sharing_balancedbottleneck__seed_3\n",
      "995:Ant-v2__timesteps_1000000__simsteps_50__trainsteps_25__noise_adaptive-param_0.2__sharing_balancedbottlebottleneck__seed_3\n",
      "700:Ant-v2__timesteps_1000000__simsteps_50__trainsteps_25__noise_adaptive-param_0.2__sharing_balancedbottlebottlebottleneck__seed_3\n",
      "715:Ant-v2__timesteps_1000000__simsteps_50__trainsteps_25__noise_adaptive-param_0.2__sharing_balancedbottleneck__seed_4\n",
      "684:Ant-v2__timesteps_1000000__simsteps_50__trainsteps_25__noise_adaptive-param_0.2__sharing_balancedbottlebottleneck__seed_4\n"
     ]
    }
   ],
   "source": [
    "dfs = []\n",
    "columns = []\n",
    "c = 0\n",
    "for filename in glob.iglob(\"results/Ant*bottle*/progress.csv\", recursive=True):\n",
    "    statinfo = os.stat(filename)\n",
    "    if statinfo.st_size > 0:\n",
    "        df = pd.read_csv(filename)\n",
    "        for column in df:\n",
    "            if column not in columns:\n",
    "                columns.append(column)\n",
    "        dfs.append((filename[:-13], df))\n",
    "        c += 1\n",
    "\n",
    "print(\"{} files found.\".format(c))\n",
    "\n",
    "plt.subplots(len(columns), 1, figsize=(10,8*len(columns)))\n",
    "\n",
    "\n",
    "for (name, df) in dfs:\n",
    "    if df.shape[0] != 1000:\n",
    "        print(str(df.shape[0]) + ':' + name.split(\"/\")[1])"
   ]
  },
  {
   "cell_type": "code",
   "execution_count": 20,
   "metadata": {},
   "outputs": [
    {
     "name": "stdout",
     "output_type": "stream",
     "text": [
      "16 files found.\n",
      "\n",
      "\n",
      "\n",
      "\n"
     ]
    }
   ],
   "source": [
    "dfs = []\n",
    "columns = []\n",
    "c = 0\n",
    "for filename in glob.iglob(\"results/Ant*bottle*/progress.csv\", recursive=True):\n",
    "    statinfo = os.stat(filename)\n",
    "    if statinfo.st_size > 0:\n",
    "        df = pd.read_csv(filename)\n",
    "        for column in df:\n",
    "            if column not in columns:\n",
    "                columns.append(column)\n",
    "        dfs.append((filename[:-13], df))\n",
    "        c += 1\n",
    "\n",
    "print(\"{} files found.\".format(c))\n",
    "\n",
    "plt.subplots(len(columns), 1, figsize=(10,8*len(columns)))\n",
    "\n",
    "\n",
    "for (name, df) in dfs:\n",
    "    if df.shape[0] != 1000:\n",
    "        print(str(df.shape[0]) + ':' + name.split(\"/\")[1])\n",
    "        \n",
    "        \n",
    "print(\"\\n\\n\")\n",
    "\n",
    "for (name, df) in dfs:\n",
    "    if df.shape[0] != 1000:\n",
    "        print(\"rm -rf \" + name.split(\"/\")[1])\n",
    "print()"
   ]
  }
 ],
 "metadata": {
  "kernelspec": {
   "display_name": "Python 3",
   "language": "python",
   "name": "python3"
  },
  "language_info": {
   "codemirror_mode": {
    "name": "ipython",
    "version": 3
   },
   "file_extension": ".py",
   "mimetype": "text/x-python",
   "name": "python",
   "nbconvert_exporter": "python",
   "pygments_lexer": "ipython3",
   "version": "3.5.4"
  }
 },
 "nbformat": 4,
 "nbformat_minor": 2
}
