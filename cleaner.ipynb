{
 "cells": [
  {
   "cell_type": "code",
   "execution_count": 1,
   "metadata": {},
   "outputs": [
    {
     "name": "stdout",
     "output_type": "stream",
     "text": [
      "Found the following 28 unfinished results:\n",
      "Ant-v2__timesteps_1000000__simsteps_50__trainsteps_25__noise_adaptive-param_0.2__sharing_none__seed_0\n",
      "Ant-v2__timesteps_1000000__simsteps_50__trainsteps_25__noise_adaptive-param_0.2__sharing_shallow__seed_0\n",
      "Ant-v2__timesteps_1000000__simsteps_50__trainsteps_25__noise_adaptive-param_0.2__sharing_deep__seed_0\n",
      "Ant-v2__timesteps_1000000__simsteps_50__trainsteps_25__noise_adaptive-param_0.2__sharing_balanced__seed_0\n",
      "Walker2d-v2__timesteps_1000000__simsteps_50__trainsteps_25__noise_adaptive-param_0.2__sharing_none__seed_0\n",
      "Walker2d-v2__timesteps_1000000__simsteps_50__trainsteps_25__noise_adaptive-param_0.2__sharing_shallow__seed_0\n",
      "Walker2d-v2__timesteps_1000000__simsteps_50__trainsteps_25__noise_adaptive-param_0.2__sharing_deep__seed_0\n",
      "Walker2d-v2__timesteps_1000000__simsteps_50__trainsteps_25__noise_adaptive-param_0.2__sharing_balanced__seed_0\n",
      "HalfCheetah-v2__timesteps_1000000__simsteps_50__trainsteps_25__noise_adaptive-param_0.2__sharing_none__seed_0\n",
      "HalfCheetah-v2__timesteps_1000000__simsteps_50__trainsteps_25__noise_adaptive-param_0.2__sharing_shallow__seed_0\n",
      "HalfCheetah-v2__timesteps_1000000__simsteps_50__trainsteps_25__noise_adaptive-param_0.2__sharing_deep__seed_0\n",
      "Humanoid-v2__timesteps_1000000__simsteps_50__trainsteps_25__noise_adaptive-param_0.2__sharing_none__seed_0\n",
      "HalfCheetah-v2__timesteps_1000000__simsteps_50__trainsteps_25__noise_adaptive-param_0.2__sharing_balanced__seed_0\n",
      "Humanoid-v2__timesteps_1000000__simsteps_50__trainsteps_25__noise_adaptive-param_0.2__sharing_shallow__seed_0\n",
      "Humanoid-v2__timesteps_1000000__simsteps_50__trainsteps_25__noise_adaptive-param_0.2__sharing_deep__seed_0\n",
      "Humanoid-v2__timesteps_1000000__simsteps_50__trainsteps_25__noise_adaptive-param_0.2__sharing_balanced__seed_0\n",
      "Ant-v2__timesteps_1000000__simsteps_50__trainsteps_25__noise_adaptive-param_0.2__sharing_none__seed_1\n",
      "Ant-v2__timesteps_1000000__simsteps_50__trainsteps_25__noise_adaptive-param_0.2__sharing_shallow__seed_1\n",
      "Ant-v2__timesteps_1000000__simsteps_50__trainsteps_25__noise_adaptive-param_0.2__sharing_deep__seed_1\n",
      "Ant-v2__timesteps_1000000__simsteps_50__trainsteps_25__noise_adaptive-param_0.2__sharing_balanced__seed_1\n",
      "Walker2d-v2__timesteps_1000000__simsteps_50__trainsteps_25__noise_adaptive-param_0.2__sharing_none__seed_1\n",
      "Walker2d-v2__timesteps_1000000__simsteps_50__trainsteps_25__noise_adaptive-param_0.2__sharing_balanced__seed_1\n",
      "HalfCheetah-v2__timesteps_1000000__simsteps_50__trainsteps_25__noise_adaptive-param_0.2__sharing_balanced__seed_1\n",
      "Humanoid-v2__timesteps_1000000__simsteps_50__trainsteps_25__noise_adaptive-param_0.2__sharing_balanced__seed_1\n",
      "Ant-v2__timesteps_1000000__simsteps_50__trainsteps_25__noise_adaptive-param_0.2__sharing_balanced__seed_2\n",
      "Walker2d-v2__timesteps_1000000__simsteps_50__trainsteps_25__noise_adaptive-param_0.2__sharing_balanced__seed_2\n",
      "HalfCheetah-v2__timesteps_1000000__simsteps_50__trainsteps_25__noise_adaptive-param_0.2__sharing_balanced__seed_2\n",
      "Humanoid-v2__timesteps_1000000__simsteps_50__trainsteps_25__noise_adaptive-param_0.2__sharing_balanced__seed_2\n"
     ]
    }
   ],
   "source": [
    "import os\n",
    "import shutil\n",
    "\n",
    "def clean_by_finished_tasks():\n",
    "    with open('finishedTasks') as f:\n",
    "        finishedTasks = f.readlines()\n",
    "        finishedTasks = [x.strip().split(',')[0] for x in finishedTasks]\n",
    "    \n",
    "    directories = [f.name for f in os.scandir('results/') if f.is_dir() and f.name[0] != '.' ]    \n",
    "    unfinishedResults = [x for x in directories if x not in finishedTasks]\n",
    "    \n",
    "    print(\"Found the following {} unfinished results:\".format(len(unfinishedResults)))\n",
    "    print(\"\\n\".join(unfinishedResults))\n",
    "    \n",
    "    for unfinshed in unfinishedResults:\n",
    "        shutil.rmtree('results/' + unfinshed)\n",
    "\n",
    "#clean_by_finished_tasks()"
   ]
  }
 ],
 "metadata": {
  "kernelspec": {
   "display_name": "Python 3",
   "language": "python",
   "name": "python3"
  },
  "language_info": {
   "codemirror_mode": {
    "name": "ipython",
    "version": 3
   },
   "file_extension": ".py",
   "mimetype": "text/x-python",
   "name": "python",
   "nbconvert_exporter": "python",
   "pygments_lexer": "ipython3",
   "version": "3.5.4"
  }
 },
 "nbformat": 4,
 "nbformat_minor": 2
}
